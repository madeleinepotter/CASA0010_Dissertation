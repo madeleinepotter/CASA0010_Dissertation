{
 "cells": [
  {
   "cell_type": "code",
   "execution_count": 14,
   "id": "34919b5a",
   "metadata": {},
   "outputs": [
    {
     "name": "stdout",
     "output_type": "stream",
     "text": [
      "Number of high-confidence buildings for 2018: 39143\n"
     ]
    }
   ],
   "source": [
    "import geopandas as gpd\n",
    "\n",
    "shapefile_path = 'buildings/2018_BuildingsInFloodedAreas.shp'  # Update with your actual path\n",
    "buildings_2018 = gpd.read_file(shapefile_path)\n",
    "\n",
    "# Count number of buildings\n",
    "number_of_buildings_2018 = len(buildings_2018)\n",
    "\n",
    "print(f'Number of high-confidence buildings for 2018: {number_of_buildings_2018}')\n"
   ]
  },
  {
   "cell_type": "code",
   "execution_count": 15,
   "id": "9203ef89",
   "metadata": {},
   "outputs": [
    {
     "name": "stdout",
     "output_type": "stream",
     "text": [
      "Number of high-confidence buildings for 2019: 51329\n"
     ]
    }
   ],
   "source": [
    "shapefile_path = 'buildings/2019_BuildingsInFloodedAreas.shp'  # Update with your actual path\n",
    "buildings_2019 = gpd.read_file(shapefile_path)\n",
    "\n",
    "# Count number of buildings\n",
    "number_of_buildings_2019 = len(buildings_2019)\n",
    "\n",
    "print(f'Number of high-confidence buildings for 2019: {number_of_buildings_2019}')\n"
   ]
  },
  {
   "cell_type": "code",
   "execution_count": 13,
   "id": "ce3268b4",
   "metadata": {},
   "outputs": [
    {
     "data": {
      "text/html": [
       "<div>\n",
       "<style scoped>\n",
       "    .dataframe tbody tr th:only-of-type {\n",
       "        vertical-align: middle;\n",
       "    }\n",
       "\n",
       "    .dataframe tbody tr th {\n",
       "        vertical-align: top;\n",
       "    }\n",
       "\n",
       "    .dataframe thead th {\n",
       "        text-align: right;\n",
       "    }\n",
       "</style>\n",
       "<table border=\"1\" class=\"dataframe\">\n",
       "  <thead>\n",
       "    <tr style=\"text-align: right;\">\n",
       "      <th></th>\n",
       "      <th>confidence</th>\n",
       "      <th>geometry</th>\n",
       "    </tr>\n",
       "  </thead>\n",
       "  <tbody>\n",
       "    <tr>\n",
       "      <th>0</th>\n",
       "      <td>0.75</td>\n",
       "      <td>POLYGON ((106.93749 -6.13492, 106.93753 -6.134...</td>\n",
       "    </tr>\n",
       "    <tr>\n",
       "      <th>1</th>\n",
       "      <td>0.75</td>\n",
       "      <td>POLYGON ((106.94059 -6.13434, 106.94060 -6.134...</td>\n",
       "    </tr>\n",
       "    <tr>\n",
       "      <th>2</th>\n",
       "      <td>0.75</td>\n",
       "      <td>POLYGON ((106.93653 -6.13542, 106.93658 -6.135...</td>\n",
       "    </tr>\n",
       "    <tr>\n",
       "      <th>3</th>\n",
       "      <td>0.75</td>\n",
       "      <td>POLYGON ((106.93827 -6.13266, 106.93827 -6.132...</td>\n",
       "    </tr>\n",
       "    <tr>\n",
       "      <th>4</th>\n",
       "      <td>0.75</td>\n",
       "      <td>POLYGON ((106.93785 -6.13420, 106.93793 -6.134...</td>\n",
       "    </tr>\n",
       "  </tbody>\n",
       "</table>\n",
       "</div>"
      ],
      "text/plain": [
       "   confidence                                           geometry\n",
       "0        0.75  POLYGON ((106.93749 -6.13492, 106.93753 -6.134...\n",
       "1        0.75  POLYGON ((106.94059 -6.13434, 106.94060 -6.134...\n",
       "2        0.75  POLYGON ((106.93653 -6.13542, 106.93658 -6.135...\n",
       "3        0.75  POLYGON ((106.93827 -6.13266, 106.93827 -6.132...\n",
       "4        0.75  POLYGON ((106.93785 -6.13420, 106.93793 -6.134..."
      ]
     },
     "execution_count": 13,
     "metadata": {},
     "output_type": "execute_result"
    }
   ],
   "source": [
    "buildings_2019.head()"
   ]
  },
  {
   "cell_type": "code",
   "execution_count": 17,
   "id": "615477de",
   "metadata": {},
   "outputs": [
    {
     "name": "stdout",
     "output_type": "stream",
     "text": [
      "Number of high-confidence buildings for 2020: 112361\n"
     ]
    }
   ],
   "source": [
    "shapefile_path = 'buildings/2020_BuildingsInFloodedAreas.shp'  # Update with your actual path\n",
    "buildings_2020 = gpd.read_file(shapefile_path)\n",
    "\n",
    "# Count number of buildings\n",
    "number_of_buildings_2020 = len(buildings_2020)\n",
    "\n",
    "print(f'Number of high-confidence buildings for 2020: {number_of_buildings_2020}')\n"
   ]
  },
  {
   "cell_type": "code",
   "execution_count": 19,
   "id": "aec03cf6",
   "metadata": {},
   "outputs": [
    {
     "name": "stdout",
     "output_type": "stream",
     "text": [
      "Number of high-confidence buildings for 2017: 94207\n"
     ]
    }
   ],
   "source": [
    "shapefile_path = 'buildings/2017_HighConfidenceBuildings.shp'  # Update with your actual path\n",
    "buildings_2017 = gpd.read_file(shapefile_path)\n",
    "\n",
    "# Count number of buildings\n",
    "number_of_buildings_2017 = len(buildings_2017)\n",
    "\n",
    "print(f'Number of high-confidence buildings for 2017: {number_of_buildings_2017}')\n"
   ]
  }
 ],
 "metadata": {
  "kernelspec": {
   "display_name": "Python 3 (ipykernel)",
   "language": "python",
   "name": "python3"
  },
  "language_info": {
   "codemirror_mode": {
    "name": "ipython",
    "version": 3
   },
   "file_extension": ".py",
   "mimetype": "text/x-python",
   "name": "python",
   "nbconvert_exporter": "python",
   "pygments_lexer": "ipython3",
   "version": "3.9.12"
  }
 },
 "nbformat": 4,
 "nbformat_minor": 5
}
